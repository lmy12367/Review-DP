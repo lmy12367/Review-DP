{
 "cells": [
  {
   "cell_type": "code",
   "execution_count": 1,
   "id": "92d25f8f-e392-4152-8e49-9fa7e6dd677e",
   "metadata": {},
   "outputs": [],
   "source": [
    "#线性回归简易版\n",
    "import numpy as np\n",
    "import torch\n",
    "from torch.utils import data\n",
    "from d2l import torch as d2l"
   ]
  },
  {
   "cell_type": "code",
   "execution_count": 2,
   "id": "d193ab1f-737c-4d98-97fa-b0208b63a5dd",
   "metadata": {},
   "outputs": [],
   "source": [
    "true_w=torch.tensor([2,-3.4])\n",
    "true_b=4.2\n",
    "features,labels = d2l.synthetic_data(true_w,true_b,1000)"
   ]
  },
  {
   "cell_type": "code",
   "execution_count": 3,
   "id": "7dd4f887-82fa-4227-8ee3-7e59e8ef541b",
   "metadata": {},
   "outputs": [],
   "source": [
    "def load_array(data_arrays,batch_size,is_train=True):\n",
    "    dataset=data.TensorDataset(*data_arrays)\n",
    "    return data.DataLoader(dataset,batch_size,shuffle=is_train)"
   ]
  },
  {
   "cell_type": "code",
   "execution_count": 4,
   "id": "480ef4fe-afa1-4972-91c7-5a85ef2599d0",
   "metadata": {},
   "outputs": [],
   "source": [
    "batch_size=10\n",
    "data_iter=load_array((features,labels),batch_size)"
   ]
  },
  {
   "cell_type": "code",
   "execution_count": 5,
   "id": "4b6f796e-1722-4809-87fb-aa0bf2822a34",
   "metadata": {},
   "outputs": [
    {
     "data": {
      "text/plain": [
       "[tensor([[-1.1702,  0.2287],\n",
       "         [-0.3590, -1.3070],\n",
       "         [ 1.0642,  0.1985],\n",
       "         [ 0.1388, -0.8712],\n",
       "         [ 0.2301, -0.6523],\n",
       "         [-0.4848, -0.5358],\n",
       "         [ 0.2097,  0.8577],\n",
       "         [-0.7690,  0.2573],\n",
       "         [ 1.4455,  0.5006],\n",
       "         [ 1.6871, -0.1853]]),\n",
       " tensor([[1.0790],\n",
       "         [7.9105],\n",
       "         [5.6690],\n",
       "         [7.4423],\n",
       "         [6.8800],\n",
       "         [5.0456],\n",
       "         [1.6777],\n",
       "         [1.7930],\n",
       "         [5.3884],\n",
       "         [8.2168]])]"
      ]
     },
     "execution_count": 5,
     "metadata": {},
     "output_type": "execute_result"
    }
   ],
   "source": [
    "next(iter(data_iter))"
   ]
  },
  {
   "cell_type": "code",
   "execution_count": 7,
   "id": "a3a289dd-3592-44f3-bc9f-5f64eb299384",
   "metadata": {},
   "outputs": [],
   "source": [
    "from torch import nn\n",
    "\n",
    "net = nn.Sequential(nn.Linear(2, 1))"
   ]
  },
  {
   "cell_type": "code",
   "execution_count": 8,
   "id": "05f01349-a487-4ec6-9ab4-e1b60be8ed21",
   "metadata": {},
   "outputs": [
    {
     "data": {
      "text/plain": [
       "tensor([[0.0083, 0.0047]])"
      ]
     },
     "execution_count": 8,
     "metadata": {},
     "output_type": "execute_result"
    }
   ],
   "source": [
    "net[0].weight.data.normal_(0,0.01)"
   ]
  },
  {
   "cell_type": "code",
   "execution_count": 9,
   "id": "88a4f0e6-d48c-4e95-b8bf-276959e838bb",
   "metadata": {},
   "outputs": [
    {
     "data": {
      "text/plain": [
       "tensor([0.])"
      ]
     },
     "execution_count": 9,
     "metadata": {},
     "output_type": "execute_result"
    }
   ],
   "source": [
    "net[0].bias.data.fill_(0)"
   ]
  },
  {
   "cell_type": "code",
   "execution_count": 10,
   "id": "8251d35c-f66d-420d-b44a-411349bb7e6b",
   "metadata": {},
   "outputs": [],
   "source": [
    "loss=nn.MSELoss()"
   ]
  },
  {
   "cell_type": "code",
   "execution_count": 11,
   "id": "9dc1dff7-ef1d-48b1-9d44-7204235e6e10",
   "metadata": {},
   "outputs": [],
   "source": [
    "trainer=torch.optim.SGD(net.parameters(),lr=0.3)"
   ]
  },
  {
   "cell_type": "code",
   "execution_count": 12,
   "id": "979d6c49-f0ee-4e9b-ae24-f58037069fbf",
   "metadata": {},
   "outputs": [
    {
     "name": "stdout",
     "output_type": "stream",
     "text": [
      "epoch 1, loss 0.000124\n",
      "epoch 2, loss 0.000116\n",
      "epoch 3, loss 0.000124\n"
     ]
    }
   ],
   "source": [
    "num_epochs = 3\n",
    "for epoch in range(num_epochs):\n",
    "    for X, y in data_iter:\n",
    "        l = loss(net(X) ,y)\n",
    "        trainer.zero_grad()\n",
    "        l.backward()\n",
    "        trainer.step()\n",
    "    l = loss(net(features), labels)\n",
    "    print(f'epoch {epoch + 1}, loss {l:f}')"
   ]
  },
  {
   "cell_type": "code",
   "execution_count": 13,
   "id": "f76b622e-c7ac-49ba-9d35-356922fe9d3a",
   "metadata": {},
   "outputs": [
    {
     "name": "stdout",
     "output_type": "stream",
     "text": [
      "w的估计误差： tensor([ 0.0022, -0.0026])\n",
      "b的估计误差： tensor([-0.0012])\n"
     ]
    }
   ],
   "source": [
    "w = net[0].weight.data\n",
    "print('w的估计误差：', true_w - w.reshape(true_w.shape))\n",
    "b = net[0].bias.data\n",
    "print('b的估计误差：', true_b - b)"
   ]
  },
  {
   "cell_type": "code",
   "execution_count": null,
   "id": "e59e27dd-6903-4739-9cfc-6e65a45a3f28",
   "metadata": {},
   "outputs": [],
   "source": []
  }
 ],
 "metadata": {
  "kernelspec": {
   "display_name": "pytorch",
   "language": "python",
   "name": "pytorch"
  },
  "language_info": {
   "codemirror_mode": {
    "name": "ipython",
    "version": 3
   },
   "file_extension": ".py",
   "mimetype": "text/x-python",
   "name": "python",
   "nbconvert_exporter": "python",
   "pygments_lexer": "ipython3",
   "version": "3.10.17"
  }
 },
 "nbformat": 4,
 "nbformat_minor": 5
}
